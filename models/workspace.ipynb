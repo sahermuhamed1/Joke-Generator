{
 "cells": [
  {
   "cell_type": "markdown",
   "id": "73b11b35",
   "metadata": {},
   "source": [
    "## Workflow\n",
    "\n",
    "- [Load Dataset](#load-dataset)\n",
    "- [Preprocess](#preprocess)\n",
    "- [Prepare Data](#prepare-data)\n",
    "- [Build Model](#build-model)\n",
    "- [Train Model](#train-model)\n",
    "- [Generate Jokes](#generate-jokes)\n",
    "- [Evaluate & Tune](#evaluate--tune)\n",
    "- [Save & Deploy](#save--deploy)\n",
    "\n"
   ]
  },
  {
   "cell_type": "code",
   "execution_count": 1,
   "id": "63c9a291",
   "metadata": {},
   "outputs": [
    {
     "name": "stderr",
     "output_type": "stream",
     "text": [
      "/home/saher/miniconda3/envs/ml/lib/python3.10/site-packages/tqdm/auto.py:21: TqdmWarning: IProgress not found. Please update jupyter and ipywidgets. See https://ipywidgets.readthedocs.io/en/stable/user_install.html\n",
      "  from .autonotebook import tqdm as notebook_tqdm\n"
     ]
    }
   ],
   "source": [
    "from datasets import load_dataset\n",
    "import pandas as pd\n",
    "import os\n",
    "import numpy as np\n",
    "import json\n",
    "import matplotlib.pyplot as plt\n",
    "import seaborn as sns\n",
    "\n",
    "df = load_dataset(\"diwank/good_joke-dataset\")\n",
    "df = df[\"train\"].to_pandas() # since we are only interested in the training set, then convert it to pandas df"
   ]
  },
  {
   "cell_type": "markdown",
   "id": "463a3949",
   "metadata": {},
   "source": [
    "### Load Dataset\n",
    "Use HuggingFace `datasets` library to load `diwank/good_joke-dataset`.\n"
   ]
  },
  {
   "cell_type": "code",
   "execution_count": 2,
   "id": "f1dd67a3",
   "metadata": {},
   "outputs": [
    {
     "name": "stdout",
     "output_type": "stream",
     "text": [
      "Dataset shape: (20045, 5)\n",
      "<class 'pandas.core.frame.DataFrame'>\n",
      "RangeIndex: 20045 entries, 0 to 20044\n",
      "Data columns (total 5 columns):\n",
      " #   Column    Non-Null Count  Dtype  \n",
      "---  ------    --------------  -----  \n",
      " 0   source    20045 non-null  object \n",
      " 1   body      20045 non-null  object \n",
      " 2   title     20045 non-null  object \n",
      " 3   category  20045 non-null  object \n",
      " 4   rating    20045 non-null  float64\n",
      "dtypes: float64(1), object(4)\n",
      "memory usage: 783.1+ KB\n"
     ]
    }
   ],
   "source": [
    "print(\"Dataset shape:\", df.shape)\n",
    "df.info()"
   ]
  },
  {
   "cell_type": "code",
   "execution_count": 3,
   "id": "c5f24897",
   "metadata": {},
   "outputs": [
    {
     "data": {
      "text/html": [
       "<div>\n",
       "<style scoped>\n",
       "    .dataframe tbody tr th:only-of-type {\n",
       "        vertical-align: middle;\n",
       "    }\n",
       "\n",
       "    .dataframe tbody tr th {\n",
       "        vertical-align: top;\n",
       "    }\n",
       "\n",
       "    .dataframe thead th {\n",
       "        text-align: right;\n",
       "    }\n",
       "</style>\n",
       "<table border=\"1\" class=\"dataframe\">\n",
       "  <thead>\n",
       "    <tr style=\"text-align: right;\">\n",
       "      <th></th>\n",
       "      <th>source</th>\n",
       "      <th>body</th>\n",
       "      <th>title</th>\n",
       "      <th>category</th>\n",
       "      <th>rating</th>\n",
       "    </tr>\n",
       "  </thead>\n",
       "  <tbody>\n",
       "    <tr>\n",
       "      <th>0</th>\n",
       "      <td>wocka</td>\n",
       "      <td>What do you call a cow with no legs?\\nGround B...</td>\n",
       "      <td>Cow With No Legs</td>\n",
       "      <td>Animal</td>\n",
       "      <td>4.0</td>\n",
       "    </tr>\n",
       "    <tr>\n",
       "      <th>1</th>\n",
       "      <td>wocka</td>\n",
       "      <td>What's black and white and red all over?\\nA ne...</td>\n",
       "      <td>Black, White and Red</td>\n",
       "      <td>Other / Misc</td>\n",
       "      <td>4.0</td>\n",
       "    </tr>\n",
       "    <tr>\n",
       "      <th>2</th>\n",
       "      <td>wocka</td>\n",
       "      <td>There's this dyslexic guy... he walked into a ...</td>\n",
       "      <td>Into the Bar</td>\n",
       "      <td>Bar</td>\n",
       "      <td>4.0</td>\n",
       "    </tr>\n",
       "    <tr>\n",
       "      <th>3</th>\n",
       "      <td>wocka</td>\n",
       "      <td>There was a dyslexic insomniac agnostic.\\nHe l...</td>\n",
       "      <td>Pondering the afterlife</td>\n",
       "      <td>One Liners</td>\n",
       "      <td>4.0</td>\n",
       "    </tr>\n",
       "    <tr>\n",
       "      <th>4</th>\n",
       "      <td>wocka</td>\n",
       "      <td>What do you call 500 lawyers at the bottom of ...</td>\n",
       "      <td>500 Lawyers</td>\n",
       "      <td>Lawyer</td>\n",
       "      <td>4.0</td>\n",
       "    </tr>\n",
       "  </tbody>\n",
       "</table>\n",
       "</div>"
      ],
      "text/plain": [
       "  source                                               body  \\\n",
       "0  wocka  What do you call a cow with no legs?\\nGround B...   \n",
       "1  wocka  What's black and white and red all over?\\nA ne...   \n",
       "2  wocka  There's this dyslexic guy... he walked into a ...   \n",
       "3  wocka  There was a dyslexic insomniac agnostic.\\nHe l...   \n",
       "4  wocka  What do you call 500 lawyers at the bottom of ...   \n",
       "\n",
       "                     title      category  rating  \n",
       "0         Cow With No Legs        Animal     4.0  \n",
       "1     Black, White and Red  Other / Misc     4.0  \n",
       "2             Into the Bar           Bar     4.0  \n",
       "3  Pondering the afterlife    One Liners     4.0  \n",
       "4              500 Lawyers        Lawyer     4.0  "
      ]
     },
     "execution_count": 3,
     "metadata": {},
     "output_type": "execute_result"
    }
   ],
   "source": [
    "df.head()"
   ]
  },
  {
   "cell_type": "code",
   "execution_count": 4,
   "id": "02fef52e",
   "metadata": {},
   "outputs": [
    {
     "data": {
      "text/plain": [
       "category\n",
       "                   19451\n",
       "Insults              109\n",
       "One Liners            96\n",
       "Miscellaneous         66\n",
       "Yo Mama               43\n",
       "Other / Misc          38\n",
       "Yo Momma              33\n",
       "Light Bulbs           27\n",
       "Puns                  26\n",
       "Animal                18\n",
       "Lightbulb             11\n",
       "Medical               11\n",
       "Knock-Knock           10\n",
       "Redneck                9\n",
       "Bar                    9\n",
       "Religious              8\n",
       "Children               7\n",
       "Sex                    6\n",
       "Political              6\n",
       "Lawyer                 5\n",
       "Sports                 5\n",
       "Men / Women            5\n",
       "Computers              4\n",
       "Tech                   3\n",
       "Women                  3\n",
       "Blond                  3\n",
       "At Work                3\n",
       "Blonde Jokes           3\n",
       "Deep Thoughts          3\n",
       "Heaven and Hell        3\n",
       "Family, Parents        3\n",
       "Animals                2\n",
       "Men                    2\n",
       "College                2\n",
       "Gross                  2\n",
       "Military               2\n",
       "Police Jokes           2\n",
       "News / Politics        1\n",
       "Idiots                 1\n",
       "Business               1\n",
       "Music                  1\n",
       "Crazy Jokes            1\n",
       "Science                1\n",
       "Name: count, dtype: int64"
      ]
     },
     "execution_count": 4,
     "metadata": {},
     "output_type": "execute_result"
    }
   ],
   "source": [
    "df['category'].value_counts()"
   ]
  },
  {
   "cell_type": "code",
   "execution_count": 5,
   "id": "a4fdd0d6",
   "metadata": {},
   "outputs": [
    {
     "name": "stdout",
     "output_type": "stream",
     "text": [
      "Top categories: ['']\n"
     ]
    }
   ],
   "source": [
    "# get the top 1 categories\n",
    "top_categories = df['category'].value_counts().head(1).index.tolist()\n",
    "print(\"Top categories:\", top_categories)"
   ]
  },
  {
   "cell_type": "code",
   "execution_count": 6,
   "id": "559a0316",
   "metadata": {},
   "outputs": [
    {
     "data": {
      "text/plain": [
       "title\n",
       "                                                           286\n",
       "Why did the chicken cross the road?                         15\n",
       "Knock knock                                                 13\n",
       "How do you make holy water?                                 12\n",
       "What did the leper say to the prostitute?                   11\n",
       "What do you call a cow with no legs?                        11\n",
       "How many feminists does it take to change a light bulb?     10\n",
       "How many tickles does it take to make an octopus laugh?      9\n",
       "Why was six afraid of seven?                                 9\n",
       "Knock Knock                                                  9\n",
       "Name: count, dtype: int64"
      ]
     },
     "execution_count": 6,
     "metadata": {},
     "output_type": "execute_result"
    }
   ],
   "source": [
    "df['title'].value_counts().head(10)"
   ]
  },
  {
   "cell_type": "markdown",
   "id": "ce38fa41",
   "metadata": {},
   "source": [
    "### Preprocess\n",
    "- Clean text (lowercase, strip extra spaces).\n",
    "- Tokenize jokes (split into sequences).\n",
    "- Build vocabulary & encode tokens to integers.\n"
   ]
  },
  {
   "cell_type": "code",
   "execution_count": 7,
   "id": "b89e20d0",
   "metadata": {},
   "outputs": [],
   "source": [
    "import re\n",
    "\n",
    "class JokePreprocessor:\n",
    "    def __init__(self):\n",
    "        self.vocab = {}\n",
    "        self.token2idx = {}\n",
    "        self.idx2token = {}\n",
    "\n",
    "    def clean_text(self, text):\n",
    "        text = text.lower()\n",
    "        text = re.sub(r'[^\\w\\s]', '', text)  # Remove punctuation\n",
    "        text = re.sub(r'\\n', '', text)  # Remove newlines\n",
    "        text = re.sub(r'\\t+', ' ', text)  # Remove tabs\n",
    "        text = re.sub(r'\\s+', ' ', text)  # Remove multiple spaces\n",
    "        text = re.sub(r'\\s+$', '', text)  # Remove trailing spaces\n",
    "        text = re.sub(r'^\\s+', '', text)  # Remove leading spaces\n",
    "        return text.strip()\n",
    "\n",
    "    def tokenize(self, text):\n",
    "        # Simple whitespace tokenizer\n",
    "        return text.split()\n",
    "\n",
    "    def build_vocab(self, texts):\n",
    "        # Build vocabulary from a list of texts\n",
    "        tokens = set()\n",
    "        for text in texts:\n",
    "            tokens.update(self.tokenize(self.clean_text(text)))\n",
    "        self.vocab = sorted(tokens)\n",
    "        self.token2idx = {token: idx for idx, token in enumerate(self.vocab)} # for encoding --> {'I':0, 'are':1, 'fun':2, 'jokes':3, 'love':4}\n",
    "        self.idx2token = {idx: token for token, idx in self.token2idx.items()} # for decoding --> {0:'I', 1:'are', 2:'fun', 3:'jokes', 4:'love'}\n",
    "\n",
    "    def encode(self, text):\n",
    "        # Encode text to list of token indices\n",
    "        tokens = self.tokenize(self.clean_text(text))\n",
    "        return [self.token2idx[token] for token in tokens if token in self.token2idx]\n",
    "\n",
    "    def decode(self, indices):\n",
    "        # Decode list of indices to text\n",
    "        return ' '.join([self.idx2token[idx] for idx in indices if idx in self.idx2token])"
   ]
  },
  {
   "cell_type": "code",
   "execution_count": 8,
   "id": "da340083",
   "metadata": {},
   "outputs": [
    {
     "data": {
      "text/plain": [
       "0                                                        What do you call a cow with no legs?\\nGround Beef!\n",
       "1                                                    What's black and white and red all over?\\nA newspaper.\n",
       "2                                                      There's this dyslexic guy... he walked into a bra...\n",
       "3    There was a dyslexic insomniac agnostic.\\nHe laid awake all night wondering if there really was a Dog.\n",
       "4                                          What do you call 500 lawyers at the bottom of the sea?\\nA start.\n",
       "Name: body, dtype: object"
      ]
     },
     "execution_count": 8,
     "metadata": {},
     "output_type": "execute_result"
    }
   ],
   "source": [
    "# show full body of jokes\n",
    "pd.set_option('display.max_colwidth', None)\n",
    "df['body'].head()"
   ]
  },
  {
   "cell_type": "code",
   "execution_count": 9,
   "id": "dadfc201",
   "metadata": {},
   "outputs": [
    {
     "data": {
      "text/html": [
       "<div>\n",
       "<style scoped>\n",
       "    .dataframe tbody tr th:only-of-type {\n",
       "        vertical-align: middle;\n",
       "    }\n",
       "\n",
       "    .dataframe tbody tr th {\n",
       "        vertical-align: top;\n",
       "    }\n",
       "\n",
       "    .dataframe thead th {\n",
       "        text-align: right;\n",
       "    }\n",
       "</style>\n",
       "<table border=\"1\" class=\"dataframe\">\n",
       "  <thead>\n",
       "    <tr style=\"text-align: right;\">\n",
       "      <th></th>\n",
       "      <th>body</th>\n",
       "      <th>body_clean</th>\n",
       "    </tr>\n",
       "  </thead>\n",
       "  <tbody>\n",
       "    <tr>\n",
       "      <th>0</th>\n",
       "      <td>What do you call a cow with no legs?\\nGround Beef!</td>\n",
       "      <td>what do you call a cow with no legsground beef</td>\n",
       "    </tr>\n",
       "    <tr>\n",
       "      <th>1</th>\n",
       "      <td>What's black and white and red all over?\\nA newspaper.</td>\n",
       "      <td>whats black and white and red all overa newspaper</td>\n",
       "    </tr>\n",
       "    <tr>\n",
       "      <th>2</th>\n",
       "      <td>There's this dyslexic guy... he walked into a bra...</td>\n",
       "      <td>theres this dyslexic guy he walked into a bra</td>\n",
       "    </tr>\n",
       "    <tr>\n",
       "      <th>3</th>\n",
       "      <td>There was a dyslexic insomniac agnostic.\\nHe laid awake all night wondering if there really was a Dog.</td>\n",
       "      <td>there was a dyslexic insomniac agnostiche laid awake all night wondering if there really was a dog</td>\n",
       "    </tr>\n",
       "    <tr>\n",
       "      <th>4</th>\n",
       "      <td>What do you call 500 lawyers at the bottom of the sea?\\nA start.</td>\n",
       "      <td>what do you call 500 lawyers at the bottom of the seaa start</td>\n",
       "    </tr>\n",
       "  </tbody>\n",
       "</table>\n",
       "</div>"
      ],
      "text/plain": [
       "                                                                                                     body  \\\n",
       "0                                                      What do you call a cow with no legs?\\nGround Beef!   \n",
       "1                                                  What's black and white and red all over?\\nA newspaper.   \n",
       "2                                                    There's this dyslexic guy... he walked into a bra...   \n",
       "3  There was a dyslexic insomniac agnostic.\\nHe laid awake all night wondering if there really was a Dog.   \n",
       "4                                        What do you call 500 lawyers at the bottom of the sea?\\nA start.   \n",
       "\n",
       "                                                                                           body_clean  \n",
       "0                                                      what do you call a cow with no legsground beef  \n",
       "1                                                   whats black and white and red all overa newspaper  \n",
       "2                                                       theres this dyslexic guy he walked into a bra  \n",
       "3  there was a dyslexic insomniac agnostiche laid awake all night wondering if there really was a dog  \n",
       "4                                        what do you call 500 lawyers at the bottom of the seaa start  "
      ]
     },
     "execution_count": 9,
     "metadata": {},
     "output_type": "execute_result"
    }
   ],
   "source": [
    "# Instantiate preprocessor and clean the 'body' column\n",
    "joke_preprocessor = JokePreprocessor()\n",
    "df['body_clean'] = df['body'].apply(joke_preprocessor.clean_text)\n",
    "\n",
    "# Build vocabulary on cleaned jokes\n",
    "joke_preprocessor.build_vocab(df['body_clean'])\n",
    "\n",
    "# Show a sample of cleaned data\n",
    "df[['body', 'body_clean']].head()"
   ]
  },
  {
   "cell_type": "markdown",
   "id": "c5f4e6e6",
   "metadata": {},
   "source": [
    "### Prepare Data\n",
    "- Convert cleaned jokes to sequences of token indices.\n",
    "- Prepare input and target sequences for training (next-word prediction)."
   ]
  },
  {
   "cell_type": "code",
   "execution_count": null,
   "id": "07654676",
   "metadata": {},
   "outputs": [
    {
     "name": "stderr",
     "output_type": "stream",
     "text": [
      "2025-06-30 22:46:59.674745: I tensorflow/core/util/port.cc:153] oneDNN custom operations are on. You may see slightly different numerical results due to floating-point round-off errors from different computation orders. To turn them off, set the environment variable `TF_ENABLE_ONEDNN_OPTS=0`.\n",
      "2025-06-30 22:46:59.684250: E external/local_xla/xla/stream_executor/cuda/cuda_fft.cc:467] Unable to register cuFFT factory: Attempting to register factory for plugin cuFFT when one has already been registered\n",
      "WARNING: All log messages before absl::InitializeLog() is called are written to STDERR\n",
      "E0000 00:00:1751312819.696081   12894 cuda_dnn.cc:8579] Unable to register cuDNN factory: Attempting to register factory for plugin cuDNN when one has already been registered\n",
      "E0000 00:00:1751312819.699688   12894 cuda_blas.cc:1407] Unable to register cuBLAS factory: Attempting to register factory for plugin cuBLAS when one has already been registered\n",
      "W0000 00:00:1751312819.708958   12894 computation_placer.cc:177] computation placer already registered. Please check linkage and avoid linking the same target more than once.\n",
      "W0000 00:00:1751312819.708976   12894 computation_placer.cc:177] computation placer already registered. Please check linkage and avoid linking the same target more than once.\n",
      "W0000 00:00:1751312819.708978   12894 computation_placer.cc:177] computation placer already registered. Please check linkage and avoid linking the same target more than once.\n",
      "W0000 00:00:1751312819.708979   12894 computation_placer.cc:177] computation placer already registered. Please check linkage and avoid linking the same target more than once.\n",
      "2025-06-30 22:46:59.711749: I tensorflow/core/platform/cpu_feature_guard.cc:210] This TensorFlow binary is optimized to use available CPU instructions in performance-critical operations.\n",
      "To enable the following instructions: AVX2 AVX_VNNI FMA, in other operations, rebuild TensorFlow with the appropriate compiler flags.\n"
     ]
    },
    {
     "name": "stdout",
     "output_type": "stream",
     "text": [
      "Vocabulary size: 16829\n",
      "Max sequence length: 33\n"
     ]
    }
   ],
   "source": [
    "from tensorflow.keras.preprocessing.sequence import pad_sequences\n",
    "from sklearn.model_selection import train_test_split\n",
    "import numpy as np\n",
    "\n",
    "# Limit vocabulary size to most frequent words for better generalization\n",
    "from collections import Counter\n",
    "\n",
    "all_tokens = [token for joke in df['body_clean'] for token in joke_preprocessor.tokenize(joke)]\n",
    "vocab_limit = 5000\n",
    "most_common = [w for w, _ in Counter(all_tokens).most_common(vocab_limit)]\n",
    "filtered_vocab = set(most_common)\n",
    "\n",
    "# Filter jokes to only those with tokens in the filtered vocab\n",
    "def filter_tokens(tokens):\n",
    "    return [t for t in tokens if t in filtered_vocab]\n",
    "\n",
    "df['body_clean_limited'] = df['body_clean'].apply(\n",
    "    lambda x: ' '.join(filter_tokens(joke_preprocessor.tokenize(x)))\n",
    ")\n",
    "\n",
    "# Rebuild vocab on limited vocab\n",
    "joke_preprocessor.build_vocab(df['body_clean_limited'])\n",
    "\n",
    "# Convert cleaned jokes to sequences of token indices\n",
    "sequences = [joke_preprocessor.encode(joke) for joke in df['body_clean_limited'] if len(joke_preprocessor.encode(joke)) > 1]\n",
    "\n",
    "# Prepare input and target sequences\n",
    "input_seqs = []\n",
    "target_seqs = []\n",
    "for seq in sequences: \n",
    "    for i in range(1, len(seq)):\n",
    "        input_seqs.append(seq[:i])\n",
    "        target_seqs.append(seq[i])\n",
    "\n",
    "# Pad input sequences\n",
    "max_seq_len = min(20, max([len(seq) for seq in input_seqs]))  # limit max sequence length for better learning\n",
    "input_seqs_padded = pad_sequences(input_seqs, maxlen=max_seq_len, padding='pre')\n",
    "target_seqs = np.array(target_seqs)\n",
    "\n",
    "# Split into train and validation sets\n",
    "X_train, X_val, y_train, y_val = train_test_split(input_seqs_padded, target_seqs, test_size=0.1, random_state=42)\n",
    "vocab_size = len(joke_preprocessor.vocab)\n",
    "print(\"Vocabulary size:\", vocab_size)\n",
    "print(\"Max sequence length:\", max_seq_len)"
   ]
  },
  {
   "cell_type": "markdown",
   "id": "fe4f1b31",
   "metadata": {},
   "source": [
    "### Build Model\n",
    "- Use a simple RNN (LSTM) for next-word prediction."
   ]
  },
  {
   "cell_type": "code",
   "execution_count": null,
   "id": "16647508",
   "metadata": {},
   "outputs": [
    {
     "name": "stderr",
     "output_type": "stream",
     "text": [
      "/home/saher/miniconda3/envs/ml/lib/python3.10/site-packages/keras/src/layers/core/embedding.py:97: UserWarning: Argument `input_length` is deprecated. Just remove it.\n",
      "  warnings.warn(\n"
     ]
    }
   ],
   "source": [
    "from tensorflow.keras.models import Sequential\n",
    "from tensorflow.keras.layers import Embedding, GRU, Dense, Dropout, BatchNormalization, Bidirectional\n",
    "\n",
    "embedding_dim = 128\n",
    "hidden_units = 256\n",
    "\n",
    "model = Sequential([\n",
    "    Embedding(input_dim=vocab_size, output_dim=embedding_dim, input_length=max_seq_len),\n",
    "    Bidirectional(GRU(hidden_units, return_sequences=True)),\n",
    "    Dropout(0.3),\n",
    "    Bidirectional(GRU(hidden_units)),\n",
    "    Dropout(0.3),\n",
    "    BatchNormalization(),\n",
    "    Dense(256, activation='relu'),\n",
    "    Dropout(0.2),\n",
    "    Dense(vocab_size, activation='softmax')\n",
    "])\n",
    "\n",
    "model.compile(loss='sparse_categorical_crossentropy', optimizer='adam', metrics=['accuracy'])"
   ]
  },
  {
   "cell_type": "markdown",
   "id": "b92abf32",
   "metadata": {},
   "source": [
    "### Train Model"
   ]
  },
  {
   "cell_type": "code",
   "execution_count": null,
   "id": "6131d025",
   "metadata": {},
   "outputs": [
    {
     "name": "stdout",
     "output_type": "stream",
     "text": [
      "Epoch 1/200\n",
      "\u001b[1m996/996\u001b[0m \u001b[32m━━━━━━━━━━━━━━━━━━━━\u001b[0m\u001b[37m\u001b[0m \u001b[1m8s\u001b[0m 6ms/step - accuracy: 0.0543 - loss: 7.3169 - val_accuracy: 0.1065 - val_loss: 6.4464\n",
      "Epoch 2/200\n",
      "\u001b[1m996/996\u001b[0m \u001b[32m━━━━━━━━━━━━━━━━━━━━\u001b[0m\u001b[37m\u001b[0m \u001b[1m8s\u001b[0m 6ms/step - accuracy: 0.0543 - loss: 7.3169 - val_accuracy: 0.1065 - val_loss: 6.4464\n",
      "Epoch 2/200\n",
      "\u001b[1m996/996\u001b[0m \u001b[32m━━━━━━━━━━━━━━━━━━━━\u001b[0m\u001b[37m\u001b[0m \u001b[1m6s\u001b[0m 6ms/step - accuracy: 0.1186 - loss: 5.9835 - val_accuracy: 0.1286 - val_loss: 6.3218\n",
      "Epoch 3/200\n",
      "\u001b[1m996/996\u001b[0m \u001b[32m━━━━━━━━━━━━━━━━━━━━\u001b[0m\u001b[37m\u001b[0m \u001b[1m6s\u001b[0m 6ms/step - accuracy: 0.1186 - loss: 5.9835 - val_accuracy: 0.1286 - val_loss: 6.3218\n",
      "Epoch 3/200\n",
      "\u001b[1m996/996\u001b[0m \u001b[32m━━━━━━━━━━━━━━━━━━━━\u001b[0m\u001b[37m\u001b[0m \u001b[1m6s\u001b[0m 6ms/step - accuracy: 0.1527 - loss: 5.4355 - val_accuracy: 0.1445 - val_loss: 6.3314\n",
      "Epoch 4/200\n",
      "\u001b[1m996/996\u001b[0m \u001b[32m━━━━━━━━━━━━━━━━━━━━\u001b[0m\u001b[37m\u001b[0m \u001b[1m6s\u001b[0m 6ms/step - accuracy: 0.1527 - loss: 5.4355 - val_accuracy: 0.1445 - val_loss: 6.3314\n",
      "Epoch 4/200\n",
      "\u001b[1m996/996\u001b[0m \u001b[32m━━━━━━━━━━━━━━━━━━━━\u001b[0m\u001b[37m\u001b[0m \u001b[1m6s\u001b[0m 6ms/step - accuracy: 0.1844 - loss: 4.9784 - val_accuracy: 0.1566 - val_loss: 6.5172\n",
      "Epoch 5/200\n",
      "\u001b[1m996/996\u001b[0m \u001b[32m━━━━━━━━━━━━━━━━━━━━\u001b[0m\u001b[37m\u001b[0m \u001b[1m6s\u001b[0m 6ms/step - accuracy: 0.1844 - loss: 4.9784 - val_accuracy: 0.1566 - val_loss: 6.5172\n",
      "Epoch 5/200\n",
      "\u001b[1m996/996\u001b[0m \u001b[32m━━━━━━━━━━━━━━━━━━━━\u001b[0m\u001b[37m\u001b[0m \u001b[1m6s\u001b[0m 6ms/step - accuracy: 0.2144 - loss: 4.5854 - val_accuracy: 0.1629 - val_loss: 6.6714\n",
      "Epoch 6/200\n",
      "\u001b[1m996/996\u001b[0m \u001b[32m━━━━━━━━━━━━━━━━━━━━\u001b[0m\u001b[37m\u001b[0m \u001b[1m6s\u001b[0m 6ms/step - accuracy: 0.2144 - loss: 4.5854 - val_accuracy: 0.1629 - val_loss: 6.6714\n",
      "Epoch 6/200\n",
      "\u001b[1m996/996\u001b[0m \u001b[32m━━━━━━━━━━━━━━━━━━━━\u001b[0m\u001b[37m\u001b[0m \u001b[1m6s\u001b[0m 6ms/step - accuracy: 0.2446 - loss: 4.1924 - val_accuracy: 0.1682 - val_loss: 7.1202\n",
      "Epoch 7/200\n",
      "\u001b[1m996/996\u001b[0m \u001b[32m━━━━━━━━━━━━━━━━━━━━\u001b[0m\u001b[37m\u001b[0m \u001b[1m6s\u001b[0m 6ms/step - accuracy: 0.2446 - loss: 4.1924 - val_accuracy: 0.1682 - val_loss: 7.1202\n",
      "Epoch 7/200\n",
      "\u001b[1m996/996\u001b[0m \u001b[32m━━━━━━━━━━━━━━━━━━━━\u001b[0m\u001b[37m\u001b[0m \u001b[1m6s\u001b[0m 6ms/step - accuracy: 0.2751 - loss: 3.8488 - val_accuracy: 0.1712 - val_loss: 7.4764\n",
      "Epoch 8/200\n",
      "\u001b[1m996/996\u001b[0m \u001b[32m━━━━━━━━━━━━━━━━━━━━\u001b[0m\u001b[37m\u001b[0m \u001b[1m6s\u001b[0m 6ms/step - accuracy: 0.2751 - loss: 3.8488 - val_accuracy: 0.1712 - val_loss: 7.4764\n",
      "Epoch 8/200\n",
      "\u001b[1m996/996\u001b[0m \u001b[32m━━━━━━━━━━━━━━━━━━━━\u001b[0m\u001b[37m\u001b[0m \u001b[1m6s\u001b[0m 6ms/step - accuracy: 0.3091 - loss: 3.5472 - val_accuracy: 0.1722 - val_loss: 8.1746\n",
      "Epoch 9/200\n",
      "\u001b[1m996/996\u001b[0m \u001b[32m━━━━━━━━━━━━━━━━━━━━\u001b[0m\u001b[37m\u001b[0m \u001b[1m6s\u001b[0m 6ms/step - accuracy: 0.3091 - loss: 3.5472 - val_accuracy: 0.1722 - val_loss: 8.1746\n",
      "Epoch 9/200\n",
      "\u001b[1m996/996\u001b[0m \u001b[32m━━━━━━━━━━━━━━━━━━━━\u001b[0m\u001b[37m\u001b[0m \u001b[1m6s\u001b[0m 6ms/step - accuracy: 0.3351 - loss: 3.3047 - val_accuracy: 0.1723 - val_loss: 8.4475\n",
      "Epoch 10/200\n",
      "\u001b[1m996/996\u001b[0m \u001b[32m━━━━━━━━━━━━━━━━━━━━\u001b[0m\u001b[37m\u001b[0m \u001b[1m6s\u001b[0m 6ms/step - accuracy: 0.3351 - loss: 3.3047 - val_accuracy: 0.1723 - val_loss: 8.4475\n",
      "Epoch 10/200\n",
      "\u001b[1m996/996\u001b[0m \u001b[32m━━━━━━━━━━━━━━━━━━━━\u001b[0m\u001b[37m\u001b[0m \u001b[1m6s\u001b[0m 6ms/step - accuracy: 0.3672 - loss: 3.0903 - val_accuracy: 0.1705 - val_loss: 8.9446\n",
      "Epoch 11/200\n",
      "\u001b[1m996/996\u001b[0m \u001b[32m━━━━━━━━━━━━━━━━━━━━\u001b[0m\u001b[37m\u001b[0m \u001b[1m6s\u001b[0m 6ms/step - accuracy: 0.3672 - loss: 3.0903 - val_accuracy: 0.1705 - val_loss: 8.9446\n",
      "Epoch 11/200\n",
      "\u001b[1m996/996\u001b[0m \u001b[32m━━━━━━━━━━━━━━━━━━━━\u001b[0m\u001b[37m\u001b[0m \u001b[1m6s\u001b[0m 6ms/step - accuracy: 0.3907 - loss: 2.9405 - val_accuracy: 0.1723 - val_loss: 9.3438\n",
      "Epoch 12/200\n",
      "\u001b[1m996/996\u001b[0m \u001b[32m━━━━━━━━━━━━━━━━━━━━\u001b[0m\u001b[37m\u001b[0m \u001b[1m6s\u001b[0m 6ms/step - accuracy: 0.3907 - loss: 2.9405 - val_accuracy: 0.1723 - val_loss: 9.3438\n",
      "Epoch 12/200\n",
      "\u001b[1m996/996\u001b[0m \u001b[32m━━━━━━━━━━━━━━━━━━━━\u001b[0m\u001b[37m\u001b[0m \u001b[1m6s\u001b[0m 6ms/step - accuracy: 0.4090 - loss: 2.8072 - val_accuracy: 0.1694 - val_loss: 9.5262\n",
      "Epoch 13/200\n",
      "\u001b[1m996/996\u001b[0m \u001b[32m━━━━━━━━━━━━━━━━━━━━\u001b[0m\u001b[37m\u001b[0m \u001b[1m6s\u001b[0m 6ms/step - accuracy: 0.4090 - loss: 2.8072 - val_accuracy: 0.1694 - val_loss: 9.5262\n",
      "Epoch 13/200\n",
      "\u001b[1m996/996\u001b[0m \u001b[32m━━━━━━━━━━━━━━━━━━━━\u001b[0m\u001b[37m\u001b[0m \u001b[1m6s\u001b[0m 6ms/step - accuracy: 0.4227 - loss: 2.7178 - val_accuracy: 0.1657 - val_loss: 9.8605\n",
      "Epoch 14/200\n",
      "\u001b[1m996/996\u001b[0m \u001b[32m━━━━━━━━━━━━━━━━━━━━\u001b[0m\u001b[37m\u001b[0m \u001b[1m6s\u001b[0m 6ms/step - accuracy: 0.4227 - loss: 2.7178 - val_accuracy: 0.1657 - val_loss: 9.8605\n",
      "Epoch 14/200\n",
      "\u001b[1m996/996\u001b[0m \u001b[32m━━━━━━━━━━━━━━━━━━━━\u001b[0m\u001b[37m\u001b[0m \u001b[1m6s\u001b[0m 6ms/step - accuracy: 0.4384 - loss: 2.6234 - val_accuracy: 0.1676 - val_loss: 10.0084\n",
      "Epoch 15/200\n",
      "\u001b[1m996/996\u001b[0m \u001b[32m━━━━━━━━━━━━━━━━━━━━\u001b[0m\u001b[37m\u001b[0m \u001b[1m6s\u001b[0m 6ms/step - accuracy: 0.4384 - loss: 2.6234 - val_accuracy: 0.1676 - val_loss: 10.0084\n",
      "Epoch 15/200\n",
      "\u001b[1m996/996\u001b[0m \u001b[32m━━━━━━━━━━━━━━━━━━━━\u001b[0m\u001b[37m\u001b[0m \u001b[1m6s\u001b[0m 6ms/step - accuracy: 0.4500 - loss: 2.5447 - val_accuracy: 0.1696 - val_loss: 10.3669\n",
      "Epoch 16/200\n",
      "\u001b[1m996/996\u001b[0m \u001b[32m━━━━━━━━━━━━━━━━━━━━\u001b[0m\u001b[37m\u001b[0m \u001b[1m6s\u001b[0m 6ms/step - accuracy: 0.4500 - loss: 2.5447 - val_accuracy: 0.1696 - val_loss: 10.3669\n",
      "Epoch 16/200\n",
      "\u001b[1m996/996\u001b[0m \u001b[32m━━━━━━━━━━━━━━━━━━━━\u001b[0m\u001b[37m\u001b[0m \u001b[1m6s\u001b[0m 6ms/step - accuracy: 0.4600 - loss: 2.4778 - val_accuracy: 0.1721 - val_loss: 10.6537\n",
      "Epoch 17/200\n",
      "\u001b[1m996/996\u001b[0m \u001b[32m━━━━━━━━━━━━━━━━━━━━\u001b[0m\u001b[37m\u001b[0m \u001b[1m6s\u001b[0m 6ms/step - accuracy: 0.4600 - loss: 2.4778 - val_accuracy: 0.1721 - val_loss: 10.6537\n",
      "Epoch 17/200\n",
      "\u001b[1m996/996\u001b[0m \u001b[32m━━━━━━━━━━━━━━━━━━━━\u001b[0m\u001b[37m\u001b[0m \u001b[1m6s\u001b[0m 6ms/step - accuracy: 0.4730 - loss: 2.4096 - val_accuracy: 0.1683 - val_loss: 10.7786\n",
      "Epoch 18/200\n",
      "\u001b[1m996/996\u001b[0m \u001b[32m━━━━━━━━━━━━━━━━━━━━\u001b[0m\u001b[37m\u001b[0m \u001b[1m6s\u001b[0m 6ms/step - accuracy: 0.4730 - loss: 2.4096 - val_accuracy: 0.1683 - val_loss: 10.7786\n",
      "Epoch 18/200\n",
      "\u001b[1m996/996\u001b[0m \u001b[32m━━━━━━━━━━━━━━━━━━━━\u001b[0m\u001b[37m\u001b[0m \u001b[1m6s\u001b[0m 6ms/step - accuracy: 0.4804 - loss: 2.3736 - val_accuracy: 0.1701 - val_loss: 11.1102\n",
      "Epoch 19/200\n",
      "\u001b[1m996/996\u001b[0m \u001b[32m━━━━━━━━━━━━━━━━━━━━\u001b[0m\u001b[37m\u001b[0m \u001b[1m6s\u001b[0m 6ms/step - accuracy: 0.4804 - loss: 2.3736 - val_accuracy: 0.1701 - val_loss: 11.1102\n",
      "Epoch 19/200\n",
      "\u001b[1m996/996\u001b[0m \u001b[32m━━━━━━━━━━━━━━━━━━━━\u001b[0m\u001b[37m\u001b[0m \u001b[1m6s\u001b[0m 6ms/step - accuracy: 0.4868 - loss: 2.3200 - val_accuracy: 0.1696 - val_loss: 11.0982\n",
      "Epoch 20/200\n",
      "\u001b[1m996/996\u001b[0m \u001b[32m━━━━━━━━━━━━━━━━━━━━\u001b[0m\u001b[37m\u001b[0m \u001b[1m6s\u001b[0m 6ms/step - accuracy: 0.4868 - loss: 2.3200 - val_accuracy: 0.1696 - val_loss: 11.0982\n",
      "Epoch 20/200\n",
      "\u001b[1m996/996\u001b[0m \u001b[32m━━━━━━━━━━━━━━━━━━━━\u001b[0m\u001b[37m\u001b[0m \u001b[1m6s\u001b[0m 6ms/step - accuracy: 0.4926 - loss: 2.2854 - val_accuracy: 0.1693 - val_loss: 11.3331\n",
      "Epoch 21/200\n",
      "\u001b[1m996/996\u001b[0m \u001b[32m━━━━━━━━━━━━━━━━━━━━\u001b[0m\u001b[37m\u001b[0m \u001b[1m6s\u001b[0m 6ms/step - accuracy: 0.4926 - loss: 2.2854 - val_accuracy: 0.1693 - val_loss: 11.3331\n",
      "Epoch 21/200\n",
      "\u001b[1m996/996\u001b[0m \u001b[32m━━━━━━━━━━━━━━━━━━━━\u001b[0m\u001b[37m\u001b[0m \u001b[1m6s\u001b[0m 6ms/step - accuracy: 0.4996 - loss: 2.2501 - val_accuracy: 0.1722 - val_loss: 11.4808\n",
      "Epoch 22/200\n",
      "\u001b[1m996/996\u001b[0m \u001b[32m━━━━━━━━━━━━━━━━━━━━\u001b[0m\u001b[37m\u001b[0m \u001b[1m6s\u001b[0m 6ms/step - accuracy: 0.4996 - loss: 2.2501 - val_accuracy: 0.1722 - val_loss: 11.4808\n",
      "Epoch 22/200\n",
      "\u001b[1m996/996\u001b[0m \u001b[32m━━━━━━━━━━━━━━━━━━━━\u001b[0m\u001b[37m\u001b[0m \u001b[1m6s\u001b[0m 6ms/step - accuracy: 0.5079 - loss: 2.2047 - val_accuracy: 0.1713 - val_loss: 11.7096\n",
      "Epoch 23/200\n",
      "\u001b[1m996/996\u001b[0m \u001b[32m━━━━━━━━━━━━━━━━━━━━\u001b[0m\u001b[37m\u001b[0m \u001b[1m6s\u001b[0m 6ms/step - accuracy: 0.5079 - loss: 2.2047 - val_accuracy: 0.1713 - val_loss: 11.7096\n",
      "Epoch 23/200\n",
      "\u001b[1m996/996\u001b[0m \u001b[32m━━━━━━━━━━━━━━━━━━━━\u001b[0m\u001b[37m\u001b[0m \u001b[1m6s\u001b[0m 6ms/step - accuracy: 0.5138 - loss: 2.1639 - val_accuracy: 0.1679 - val_loss: 11.8085\n",
      "Epoch 24/200\n",
      "\u001b[1m996/996\u001b[0m \u001b[32m━━━━━━━━━━━━━━━━━━━━\u001b[0m\u001b[37m\u001b[0m \u001b[1m6s\u001b[0m 6ms/step - accuracy: 0.5138 - loss: 2.1639 - val_accuracy: 0.1679 - val_loss: 11.8085\n",
      "Epoch 24/200\n",
      "\u001b[1m996/996\u001b[0m \u001b[32m━━━━━━━━━━━━━━━━━━━━\u001b[0m\u001b[37m\u001b[0m \u001b[1m6s\u001b[0m 6ms/step - accuracy: 0.5180 - loss: 2.1427 - val_accuracy: 0.1688 - val_loss: 11.6480\n",
      "Epoch 25/200\n",
      "\u001b[1m996/996\u001b[0m \u001b[32m━━━━━━━━━━━━━━━━━━━━\u001b[0m\u001b[37m\u001b[0m \u001b[1m6s\u001b[0m 6ms/step - accuracy: 0.5180 - loss: 2.1427 - val_accuracy: 0.1688 - val_loss: 11.6480\n",
      "Epoch 25/200\n",
      "\u001b[1m996/996\u001b[0m \u001b[32m━━━━━━━━━━━━━━━━━━━━\u001b[0m\u001b[37m\u001b[0m \u001b[1m6s\u001b[0m 6ms/step - accuracy: 0.5233 - loss: 2.1077 - val_accuracy: 0.1702 - val_loss: 11.8603\n",
      "Epoch 26/200\n",
      "\u001b[1m996/996\u001b[0m \u001b[32m━━━━━━━━━━━━━━━━━━━━\u001b[0m\u001b[37m\u001b[0m \u001b[1m6s\u001b[0m 6ms/step - accuracy: 0.5233 - loss: 2.1077 - val_accuracy: 0.1702 - val_loss: 11.8603\n",
      "Epoch 26/200\n",
      "\u001b[1m996/996\u001b[0m \u001b[32m━━━━━━━━━━━━━━━━━━━━\u001b[0m\u001b[37m\u001b[0m \u001b[1m6s\u001b[0m 6ms/step - accuracy: 0.5256 - loss: 2.0856 - val_accuracy: 0.1710 - val_loss: 11.8373\n",
      "Epoch 27/200\n",
      "\u001b[1m996/996\u001b[0m \u001b[32m━━━━━━━━━━━━━━━━━━━━\u001b[0m\u001b[37m\u001b[0m \u001b[1m6s\u001b[0m 6ms/step - accuracy: 0.5256 - loss: 2.0856 - val_accuracy: 0.1710 - val_loss: 11.8373\n",
      "Epoch 27/200\n",
      "\u001b[1m996/996\u001b[0m \u001b[32m━━━━━━━━━━━━━━━━━━━━\u001b[0m\u001b[37m\u001b[0m \u001b[1m6s\u001b[0m 6ms/step - accuracy: 0.5311 - loss: 2.0624 - val_accuracy: 0.1699 - val_loss: 11.9130\n",
      "Epoch 28/200\n",
      "\u001b[1m996/996\u001b[0m \u001b[32m━━━━━━━━━━━━━━━━━━━━\u001b[0m\u001b[37m\u001b[0m \u001b[1m6s\u001b[0m 6ms/step - accuracy: 0.5311 - loss: 2.0624 - val_accuracy: 0.1699 - val_loss: 11.9130\n",
      "Epoch 28/200\n",
      "\u001b[1m996/996\u001b[0m \u001b[32m━━━━━━━━━━━━━━━━━━━━\u001b[0m\u001b[37m\u001b[0m \u001b[1m6s\u001b[0m 6ms/step - accuracy: 0.5374 - loss: 2.0358 - val_accuracy: 0.1695 - val_loss: 12.0525\n",
      "Epoch 29/200\n",
      "\u001b[1m996/996\u001b[0m \u001b[32m━━━━━━━━━━━━━━━━━━━━\u001b[0m\u001b[37m\u001b[0m \u001b[1m6s\u001b[0m 6ms/step - accuracy: 0.5374 - loss: 2.0358 - val_accuracy: 0.1695 - val_loss: 12.0525\n",
      "Epoch 29/200\n",
      "\u001b[1m996/996\u001b[0m \u001b[32m━━━━━━━━━━━━━━━━━━━━\u001b[0m\u001b[37m\u001b[0m \u001b[1m6s\u001b[0m 6ms/step - accuracy: 0.5416 - loss: 2.0110 - val_accuracy: 0.1720 - val_loss: 12.3854\n",
      "Epoch 30/200\n",
      "\u001b[1m996/996\u001b[0m \u001b[32m━━━━━━━━━━━━━━━━━━━━\u001b[0m\u001b[37m\u001b[0m \u001b[1m6s\u001b[0m 6ms/step - accuracy: 0.5416 - loss: 2.0110 - val_accuracy: 0.1720 - val_loss: 12.3854\n",
      "Epoch 30/200\n",
      "\u001b[1m996/996\u001b[0m \u001b[32m━━━━━━━━━━━━━━━━━━━━\u001b[0m\u001b[37m\u001b[0m \u001b[1m6s\u001b[0m 6ms/step - accuracy: 0.5433 - loss: 1.9932 - val_accuracy: 0.1713 - val_loss: 12.4616\n",
      "Epoch 31/200\n",
      "\u001b[1m996/996\u001b[0m \u001b[32m━━━━━━━━━━━━━━━━━━━━\u001b[0m\u001b[37m\u001b[0m \u001b[1m6s\u001b[0m 6ms/step - accuracy: 0.5433 - loss: 1.9932 - val_accuracy: 0.1713 - val_loss: 12.4616\n",
      "Epoch 31/200\n",
      "\u001b[1m996/996\u001b[0m \u001b[32m━━━━━━━━━━━━━━━━━━━━\u001b[0m\u001b[37m\u001b[0m \u001b[1m6s\u001b[0m 6ms/step - accuracy: 0.5481 - loss: 1.9784 - val_accuracy: 0.1699 - val_loss: 12.4209\n",
      "Epoch 32/200\n",
      "\u001b[1m996/996\u001b[0m \u001b[32m━━━━━━━━━━━━━━━━━━━━\u001b[0m\u001b[37m\u001b[0m \u001b[1m6s\u001b[0m 6ms/step - accuracy: 0.5481 - loss: 1.9784 - val_accuracy: 0.1699 - val_loss: 12.4209\n",
      "Epoch 32/200\n",
      "\u001b[1m996/996\u001b[0m \u001b[32m━━━━━━━━━━━━━━━━━━━━\u001b[0m\u001b[37m\u001b[0m \u001b[1m6s\u001b[0m 6ms/step - accuracy: 0.5501 - loss: 1.9583 - val_accuracy: 0.1732 - val_loss: 12.5318\n",
      "Epoch 32: early stopping\n",
      "Restoring model weights from the end of the best epoch: 2.\n",
      "\u001b[1m996/996\u001b[0m \u001b[32m━━━━━━━━━━━━━━━━━━━━\u001b[0m\u001b[37m\u001b[0m \u001b[1m6s\u001b[0m 6ms/step - accuracy: 0.5501 - loss: 1.9583 - val_accuracy: 0.1732 - val_loss: 12.5318\n",
      "Epoch 32: early stopping\n",
      "Restoring model weights from the end of the best epoch: 2.\n"
     ]
    }
   ],
   "source": [
    "from tensorflow.keras.callbacks import EarlyStopping, ReduceLROnPlateau\n",
    "\n",
    "early_stop = EarlyStopping(\n",
    "    monitor='val_loss',\n",
    "    patience=10,\n",
    "    restore_best_weights=True,\n",
    "    verbose=1\n",
    ")\n",
    "reduce_lr = ReduceLROnPlateau(\n",
    "    monitor='val_loss',\n",
    "    factor=0.5,\n",
    "    patience=3,\n",
    "    min_lr=1e-5,\n",
    "    verbose=1\n",
    ")\n",
    "\n",
    "history = model.fit(\n",
    "    X_train, y_train,\n",
    "    validation_data=(X_val, y_val),\n",
    "    epochs=50,\n",
    "    batch_size=128,\n",
    "    callbacks=[early_stop, reduce_lr]\n",
    ")"
   ]
  },
  {
   "cell_type": "code",
   "execution_count": 15,
   "id": "7e178722",
   "metadata": {},
   "outputs": [
    {
     "data": {
      "text/html": [
       "<pre style=\"white-space:pre;overflow-x:auto;line-height:normal;font-family:Menlo,'DejaVu Sans Mono',consolas,'Courier New',monospace\"><span style=\"font-weight: bold\">Model: \"sequential_1\"</span>\n",
       "</pre>\n"
      ],
      "text/plain": [
       "\u001b[1mModel: \"sequential_1\"\u001b[0m\n"
      ]
     },
     "metadata": {},
     "output_type": "display_data"
    },
    {
     "data": {
      "text/html": [
       "<pre style=\"white-space:pre;overflow-x:auto;line-height:normal;font-family:Menlo,'DejaVu Sans Mono',consolas,'Courier New',monospace\">┏━━━━━━━━━━━━━━━━━━━━━━━━━━━━━━━━━┳━━━━━━━━━━━━━━━━━━━━━━━━┳━━━━━━━━━━━━━━━┓\n",
       "┃<span style=\"font-weight: bold\"> Layer (type)                    </span>┃<span style=\"font-weight: bold\"> Output Shape           </span>┃<span style=\"font-weight: bold\">       Param # </span>┃\n",
       "┡━━━━━━━━━━━━━━━━━━━━━━━━━━━━━━━━━╇━━━━━━━━━━━━━━━━━━━━━━━━╇━━━━━━━━━━━━━━━┩\n",
       "│ embedding_1 (<span style=\"color: #0087ff; text-decoration-color: #0087ff\">Embedding</span>)         │ (<span style=\"color: #00d7ff; text-decoration-color: #00d7ff\">None</span>, <span style=\"color: #00af00; text-decoration-color: #00af00\">33</span>, <span style=\"color: #00af00; text-decoration-color: #00af00\">64</span>)         │     <span style=\"color: #00af00; text-decoration-color: #00af00\">1,077,056</span> │\n",
       "├─────────────────────────────────┼────────────────────────┼───────────────┤\n",
       "│ gru_1 (<span style=\"color: #0087ff; text-decoration-color: #0087ff\">GRU</span>)                     │ (<span style=\"color: #00d7ff; text-decoration-color: #00d7ff\">None</span>, <span style=\"color: #00af00; text-decoration-color: #00af00\">128</span>)            │        <span style=\"color: #00af00; text-decoration-color: #00af00\">74,496</span> │\n",
       "├─────────────────────────────────┼────────────────────────┼───────────────┤\n",
       "│ dropout_1 (<span style=\"color: #0087ff; text-decoration-color: #0087ff\">Dropout</span>)             │ (<span style=\"color: #00d7ff; text-decoration-color: #00d7ff\">None</span>, <span style=\"color: #00af00; text-decoration-color: #00af00\">128</span>)            │             <span style=\"color: #00af00; text-decoration-color: #00af00\">0</span> │\n",
       "├─────────────────────────────────┼────────────────────────┼───────────────┤\n",
       "│ batch_normalization_1           │ (<span style=\"color: #00d7ff; text-decoration-color: #00d7ff\">None</span>, <span style=\"color: #00af00; text-decoration-color: #00af00\">128</span>)            │           <span style=\"color: #00af00; text-decoration-color: #00af00\">512</span> │\n",
       "│ (<span style=\"color: #0087ff; text-decoration-color: #0087ff\">BatchNormalization</span>)            │                        │               │\n",
       "├─────────────────────────────────┼────────────────────────┼───────────────┤\n",
       "│ dense_2 (<span style=\"color: #0087ff; text-decoration-color: #0087ff\">Dense</span>)                 │ (<span style=\"color: #00d7ff; text-decoration-color: #00d7ff\">None</span>, <span style=\"color: #00af00; text-decoration-color: #00af00\">128</span>)            │        <span style=\"color: #00af00; text-decoration-color: #00af00\">16,512</span> │\n",
       "├─────────────────────────────────┼────────────────────────┼───────────────┤\n",
       "│ dense_3 (<span style=\"color: #0087ff; text-decoration-color: #0087ff\">Dense</span>)                 │ (<span style=\"color: #00d7ff; text-decoration-color: #00d7ff\">None</span>, <span style=\"color: #00af00; text-decoration-color: #00af00\">16829</span>)          │     <span style=\"color: #00af00; text-decoration-color: #00af00\">2,170,941</span> │\n",
       "└─────────────────────────────────┴────────────────────────┴───────────────┘\n",
       "</pre>\n"
      ],
      "text/plain": [
       "┏━━━━━━━━━━━━━━━━━━━━━━━━━━━━━━━━━┳━━━━━━━━━━━━━━━━━━━━━━━━┳━━━━━━━━━━━━━━━┓\n",
       "┃\u001b[1m \u001b[0m\u001b[1mLayer (type)                   \u001b[0m\u001b[1m \u001b[0m┃\u001b[1m \u001b[0m\u001b[1mOutput Shape          \u001b[0m\u001b[1m \u001b[0m┃\u001b[1m \u001b[0m\u001b[1m      Param #\u001b[0m\u001b[1m \u001b[0m┃\n",
       "┡━━━━━━━━━━━━━━━━━━━━━━━━━━━━━━━━━╇━━━━━━━━━━━━━━━━━━━━━━━━╇━━━━━━━━━━━━━━━┩\n",
       "│ embedding_1 (\u001b[38;5;33mEmbedding\u001b[0m)         │ (\u001b[38;5;45mNone\u001b[0m, \u001b[38;5;34m33\u001b[0m, \u001b[38;5;34m64\u001b[0m)         │     \u001b[38;5;34m1,077,056\u001b[0m │\n",
       "├─────────────────────────────────┼────────────────────────┼───────────────┤\n",
       "│ gru_1 (\u001b[38;5;33mGRU\u001b[0m)                     │ (\u001b[38;5;45mNone\u001b[0m, \u001b[38;5;34m128\u001b[0m)            │        \u001b[38;5;34m74,496\u001b[0m │\n",
       "├─────────────────────────────────┼────────────────────────┼───────────────┤\n",
       "│ dropout_1 (\u001b[38;5;33mDropout\u001b[0m)             │ (\u001b[38;5;45mNone\u001b[0m, \u001b[38;5;34m128\u001b[0m)            │             \u001b[38;5;34m0\u001b[0m │\n",
       "├─────────────────────────────────┼────────────────────────┼───────────────┤\n",
       "│ batch_normalization_1           │ (\u001b[38;5;45mNone\u001b[0m, \u001b[38;5;34m128\u001b[0m)            │           \u001b[38;5;34m512\u001b[0m │\n",
       "│ (\u001b[38;5;33mBatchNormalization\u001b[0m)            │                        │               │\n",
       "├─────────────────────────────────┼────────────────────────┼───────────────┤\n",
       "│ dense_2 (\u001b[38;5;33mDense\u001b[0m)                 │ (\u001b[38;5;45mNone\u001b[0m, \u001b[38;5;34m128\u001b[0m)            │        \u001b[38;5;34m16,512\u001b[0m │\n",
       "├─────────────────────────────────┼────────────────────────┼───────────────┤\n",
       "│ dense_3 (\u001b[38;5;33mDense\u001b[0m)                 │ (\u001b[38;5;45mNone\u001b[0m, \u001b[38;5;34m16829\u001b[0m)          │     \u001b[38;5;34m2,170,941\u001b[0m │\n",
       "└─────────────────────────────────┴────────────────────────┴───────────────┘\n"
      ]
     },
     "metadata": {},
     "output_type": "display_data"
    },
    {
     "data": {
      "text/html": [
       "<pre style=\"white-space:pre;overflow-x:auto;line-height:normal;font-family:Menlo,'DejaVu Sans Mono',consolas,'Courier New',monospace\"><span style=\"font-weight: bold\"> Total params: </span><span style=\"color: #00af00; text-decoration-color: #00af00\">10,018,041</span> (38.22 MB)\n",
       "</pre>\n"
      ],
      "text/plain": [
       "\u001b[1m Total params: \u001b[0m\u001b[38;5;34m10,018,041\u001b[0m (38.22 MB)\n"
      ]
     },
     "metadata": {},
     "output_type": "display_data"
    },
    {
     "data": {
      "text/html": [
       "<pre style=\"white-space:pre;overflow-x:auto;line-height:normal;font-family:Menlo,'DejaVu Sans Mono',consolas,'Courier New',monospace\"><span style=\"font-weight: bold\"> Trainable params: </span><span style=\"color: #00af00; text-decoration-color: #00af00\">3,339,261</span> (12.74 MB)\n",
       "</pre>\n"
      ],
      "text/plain": [
       "\u001b[1m Trainable params: \u001b[0m\u001b[38;5;34m3,339,261\u001b[0m (12.74 MB)\n"
      ]
     },
     "metadata": {},
     "output_type": "display_data"
    },
    {
     "data": {
      "text/html": [
       "<pre style=\"white-space:pre;overflow-x:auto;line-height:normal;font-family:Menlo,'DejaVu Sans Mono',consolas,'Courier New',monospace\"><span style=\"font-weight: bold\"> Non-trainable params: </span><span style=\"color: #00af00; text-decoration-color: #00af00\">256</span> (1.00 KB)\n",
       "</pre>\n"
      ],
      "text/plain": [
       "\u001b[1m Non-trainable params: \u001b[0m\u001b[38;5;34m256\u001b[0m (1.00 KB)\n"
      ]
     },
     "metadata": {},
     "output_type": "display_data"
    },
    {
     "data": {
      "text/html": [
       "<pre style=\"white-space:pre;overflow-x:auto;line-height:normal;font-family:Menlo,'DejaVu Sans Mono',consolas,'Courier New',monospace\"><span style=\"font-weight: bold\"> Optimizer params: </span><span style=\"color: #00af00; text-decoration-color: #00af00\">6,678,524</span> (25.48 MB)\n",
       "</pre>\n"
      ],
      "text/plain": [
       "\u001b[1m Optimizer params: \u001b[0m\u001b[38;5;34m6,678,524\u001b[0m (25.48 MB)\n"
      ]
     },
     "metadata": {},
     "output_type": "display_data"
    }
   ],
   "source": [
    "model.summary()"
   ]
  },
  {
   "cell_type": "code",
   "execution_count": 16,
   "id": "72bf3bcf",
   "metadata": {},
   "outputs": [
    {
     "data": {
      "image/png": "[encoded data removed]",
      "text/plain": [
       "<Figure size 1200x500 with 2 Axes>"
      ]
     },
     "metadata": {},
     "output_type": "display_data"
    }
   ],
   "source": [
    "# Plot training & validation loss and accuracy\n",
    "plt.figure(figsize=(12, 5))\n",
    "\n",
    "plt.subplot(1, 2, 1)\n",
    "plt.plot(history.history['loss'], label='Train Loss')\n",
    "plt.plot(history.history['val_loss'], label='Val Loss')\n",
    "plt.title('Loss')\n",
    "plt.xlabel('Epoch')\n",
    "plt.ylabel('Loss')\n",
    "plt.legend()\n",
    "\n",
    "plt.subplot(1, 2, 2)\n",
    "plt.plot(history.history['accuracy'], label='Train Accuracy')\n",
    "plt.plot(history.history['val_accuracy'], label='Val Accuracy')\n",
    "plt.title('Accuracy')\n",
    "plt.xlabel('Epoch')\n",
    "plt.ylabel('Accuracy')\n",
    "plt.legend()\n",
    "\n",
    "plt.tight_layout()\n",
    "plt.show()"
   ]
  },
  {
   "cell_type": "markdown",
   "id": "54c92bf3",
   "metadata": {},
   "source": [
    "### Generate Jokes\n",
    "- Function to generate joke completion given a prompt."
   ]
  },
  {
   "cell_type": "code",
   "execution_count": null,
   "id": "6488a5b2",
   "metadata": {},
   "outputs": [],
   "source": [
    "def generate_joke(prompt, max_gen_len=30):\n",
    "    cleaned = joke_preprocessor.clean_text(prompt)\n",
    "    encoded = joke_preprocessor.encode(cleaned)\n",
    "    for _ in range(max_gen_len):\n",
    "        padded = pad_sequences([encoded], maxlen=max_seq_len, padding='pre')\n",
    "        pred_probs = model.predict(padded, verbose=0)[0]\n",
    "        # Use sampling instead of argmax for more variety\n",
    "        next_idx = np.random.choice(len(pred_probs), p=pred_probs/np.sum(pred_probs))\n",
    "        encoded.append(next_idx)\n",
    "    return joke_preprocessor.decode(encoded)"
   ]
  },
  {
   "cell_type": "markdown",
   "id": "0217e608",
   "metadata": {},
   "source": [
    "### Try Joke Completion!\n",
    "- Enter a joke prompt and let the model complete it."
   ]
  },
  {
   "cell_type": "code",
   "execution_count": 19,
   "id": "f1e11cad",
   "metadata": {},
   "outputs": [
    {
     "name": "stdout",
     "output_type": "stream",
     "text": [
      "Prompt: Why did the chicken cross the road?\n",
      "Generated joke: why did the chicken cross the road and says i dont know how many i dont know how many i dont know how many i dont know how many i dont know how many i dont know\n"
     ]
    }
   ],
   "source": [
    "prompt = \"Why did the chicken cross the road?\"\n",
    "completed_joke = generate_joke(prompt)\n",
    "print(\"Prompt:\", prompt)\n",
    "print(\"Generated joke:\", completed_joke)"
   ]
  },
  {
   "cell_type": "code",
   "execution_count": null,
   "id": "da79d0b6",
   "metadata": {},
   "outputs": [],
   "source": []
  },
  {
   "cell_type": "code",
   "execution_count": null,
   "id": "fdec6f81",
   "metadata": {},
   "outputs": [],
   "source": []
  }
 ],
 "metadata": {
  "kernelspec": {
   "display_name": "ml",
   "language": "python",
   "name": "python3"
  },
  "language_info": {
   "codemirror_mode": {
    "name": "ipython",
    "version": 3
   },
   "file_extension": ".py",
   "mimetype": "text/x-python",
   "name": "python",
   "nbconvert_exporter": "python",
   "pygments_lexer": "ipython3",
   "version": "3.10.18"
  }
 },
 "nbformat": 4,
 "nbformat_minor": 5
}
